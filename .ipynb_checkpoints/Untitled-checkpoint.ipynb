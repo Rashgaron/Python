{
 "cells": [
  {
   "cell_type": "code",
   "execution_count": 1,
   "metadata": {},
   "outputs": [],
   "source": [
    "def anadir_elemento(lista):\n",
    "\n",
    "\tn = int(input(\"Introduce la cantidad de elementos que quieres anadir a la lista:\"))\n",
    "\ti = 0\n",
    "\twhile i < n:\n",
    "\n",
    "\t\telemento = input()\n",
    "\t\tlista.append(elemento)\n",
    "\t\tprint(\"El elemento \" +elemento+ \" ha sido anaido\")\n",
    "\t\ti +=1\n",
    "\tprint()"
   ]
  },
  {
   "cell_type": "code",
   "execution_count": null,
   "metadata": {},
   "outputs": [],
   "source": [
    "def mostrar_lista(lista):\n",
    "\n",
    "\tprint(\"Mostrando elementos de la lista: \")\n",
    "\tif len(lista) != 0:\n",
    "\t\t#for i in lista:\n",
    "\t\t#\tprint(i)\n",
    "\t\tprint(lista)\t\n",
    "\telse:\n",
    "\t\tprint(\"La lista esta vacia\")\n",
    "\t"
   ]
  },
  {
   "cell_type": "code",
   "execution_count": null,
   "metadata": {},
   "outputs": [],
   "source": [
    "def eliminar_elemento(lista):\n",
    "\tj =int(0)\n",
    "    s(lista):\n",
    "\n",
    "\twith open(\"lista_elementos.txt\",\"r\") as f:\n",
    "\t\tfor line in f:\n",
    "\t\t\tfor word in line.split():\n",
    "\t\t\t\tlista.append(word)"
   ]
  },
  {
   "cell_type": "code",
   "execution_count": null,
   "metadata": {},
   "outputs": [],
   "source": [
    "def main():\n",
    "\n",
    "\tlista=[]\t\n",
    "\tcargar_datos(lista)\t\n",
    "\tcontinua = True\n",
    "\twhile continua:\n",
    "\t\tprint(\"[Mostrar_lista]\t\t[Anadir_elemento]\t[Eliminar_elemento]\t[Salir]\")\n",
    "\t\tprint()\n",
    "\t\top = input(\"Introduce la operacion que quieras realizar: \").split()[0]\n",
    "\t\tif op ==\"Mostrar_lista\":\n",
    "\t\t\tmostrar_lista(lista)\n",
    "\t\telif op == \"Anadir_elemento\":\n",
    "\t\t\tanadir_elemento(lista)\n",
    "\t\telif op == \"Eliminar_elemento\":\n",
    "\t\t\ttry:\n",
    "\t\t\t\teliminar_elemento(lista)\n",
    "\t\t\texcept ValueError:\n",
    "\t\t\t\tprint(\"No has introducido un numero\")\t\n",
    "\t\telif op == \"Salir\":\n",
    "\t\t\tcontinua = False\n",
    "\tguardar_datos(lista)\n",
    "try:\n",
    "\tmain()\n",
    "except KeyboardInterrupt:\n",
    "\tprint()\n",
    "\tprint(\"Cierre forzado del programa\")\t"
   ]
  },
  {
   "cell_type": "code",
   "execution_count": null,
   "metadata": {},
   "outputs": [],
   "source": [
    "main()"
   ]
  }
 ],
 "metadata": {
  "kernelspec": {
   "display_name": "Python 3",
   "language": "python",
   "name": "python3"
  },
  "language_info": {
   "codemirror_mode": {
    "name": "ipython",
    "version": 3
   },
   "file_extension": ".py",
   "mimetype": "text/x-python",
   "name": "python",
   "nbconvert_exporter": "python",
   "pygments_lexer": "ipython3",
   "version": "3.7.3"
  }
 },
 "nbformat": 4,
 "nbformat_minor": 2
}
